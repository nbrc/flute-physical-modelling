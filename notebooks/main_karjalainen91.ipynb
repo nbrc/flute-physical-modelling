{
 "cells": [
  {
   "cell_type": "code",
   "execution_count": 1,
   "metadata": {},
   "outputs": [],
   "source": [
    "import numpy as np\n",
    "import time\n",
    "import tqdm\n",
    "import librosa\n",
    "import resampy\n",
    "import soundfile as sf\n",
    "import matplotlib.pyplot as plt"
   ]
  },
  {
   "attachments": {},
   "cell_type": "markdown",
   "metadata": {},
   "source": [
    "フィードバックに注意ください"
   ]
  },
  {
   "cell_type": "code",
   "execution_count": 2,
   "metadata": {},
   "outputs": [],
   "source": [
    "tube_length= 36\n",
    "embochure = 20\n",
    "fs = 44100\n",
    "nbr_de_sec = 3\n",
    "duration = fs*nbr_de_sec"
   ]
  },
  {
   "cell_type": "code",
   "execution_count": 3,
   "metadata": {},
   "outputs": [],
   "source": [
    "def noise(duration):\n",
    "    y = (np.random.rand(duration,1)-0.5)*2\n",
    "    return y"
   ]
  },
  {
   "cell_type": "code",
   "execution_count": 4,
   "metadata": {},
   "outputs": [
    {
     "ename": "IndexError",
     "evalue": "only integers, slices (`:`), ellipsis (`...`), numpy.newaxis (`None`) and integer or boolean arrays are valid indices",
     "output_type": "error",
     "traceback": [
      "\u001b[0;31m---------------------------------------------------------------------------\u001b[0m",
      "\u001b[0;31mIndexError\u001b[0m                                Traceback (most recent call last)",
      "Cell \u001b[0;32mIn[4], line 46\u001b[0m\n\u001b[1;32m     44\u001b[0m delayTube1[i] \u001b[39m=\u001b[39m instantSample\n\u001b[1;32m     45\u001b[0m \u001b[39mif\u001b[39;00m i \u001b[39m>\u001b[39m tube_length:\n\u001b[0;32m---> 46\u001b[0m     instantSample \u001b[39m=\u001b[39m delayTube1[i\u001b[39m-\u001b[39;49mtube_length]\n\u001b[1;32m     48\u001b[0m \u001b[39m# Ff　無限インパルス応答フィルター\u001b[39;00m\n\u001b[1;32m     49\u001b[0m instantSample \u001b[39m=\u001b[39m instantSample \u001b[39m*\u001b[39m \u001b[39m0.5\u001b[39m \u001b[39m+\u001b[39m delayff \u001b[39m*\u001b[39m \u001b[39m0.5\u001b[39m\n",
      "\u001b[0;31mIndexError\u001b[0m: only integers, slices (`:`), ellipsis (`...`), numpy.newaxis (`None`) and integer or boolean arrays are valid indices"
     ]
    }
   ],
   "source": [
    "# Karjalainen 1991\n",
    "\n",
    "# Noise ノイズ\n",
    "burst_noise = noise(duration)\n",
    "\n",
    "# Variables 変数\n",
    "# Preallocate output array for efficiency\n",
    "output = np.empty(duration)  \n",
    "delayTube1 = np.empty(duration)\n",
    "delayTube2 = np.empty(duration)\n",
    "delayEmb = np.empty(duration)\n",
    "feedbackGain = 0.77 #0.628\n",
    "inputGain = 0.372\n",
    "\n",
    "feedback = 0\n",
    "delayff = 0\n",
    "delayfr = 0\n",
    "delayfb = 0\n",
    "start = 0\n",
    "end = 0\n",
    "\n",
    "start = time.time()\n",
    "for i in range(duration):\n",
    "    # Input Noise　ノイズの入力\n",
    "    instantSample = burst_noise[i] * inputGain\n",
    "\n",
    "    # + feedback　フィードバック足し\n",
    "    if i != 0:\n",
    "        instantSample += feedback\n",
    "\n",
    "    # Z-1　一サンプル遅延\n",
    "    delayEmb[i] = instantSample\n",
    "    if i > embochure:\n",
    "        instantSample = delayEmb[i-embochure]\n",
    "\n",
    "    # Non-linearity　シグモイド関数\n",
    "    instantSample -= (instantSample**3)\n",
    "\n",
    "    # + feedback　フィードバック足し\n",
    "    if i != 0:\n",
    "        instantSample += feedback\n",
    "\n",
    "    # Variable delay-line　可変遅延線\n",
    "    delayTube1[i] = instantSample\n",
    "    if i > tube_length:\n",
    "        instantSample = delayTube1[i-tube_length]\n",
    "    \n",
    "    # Ff　無限インパルス応答フィルター\n",
    "    instantSample = instantSample * 0.5 + delayff * 0.5\n",
    "    delayff = instantSample\n",
    "\n",
    "    # Fr　逆の無限インパルス応答フィルター\n",
    "    instantSample_to_fr = instantSample\n",
    "    instantSample_to_fr1 = instantSample_to_fr * 0.5 + delayfr * (-0.5)\n",
    "    delayfr = instantSample_to_fr1\n",
    "    instantSample_to_fr_out = instantSample_to_fr - instantSample_to_fr1\n",
    "\n",
    "    # Variable delay-line　可変遅延線\n",
    "    delayTube2[i] = instantSample\n",
    "    if i > tube_length:\n",
    "        instantSample = delayTube2[i-tube_length]\n",
    "        \n",
    "    # Fb　無限インパルス応答フィルター\n",
    "    instantSample_to_fb = instantSample * 0.5 + delayfb * 0.5\n",
    "    delayfb = instantSample_to_fb\n",
    "\n",
    "    # Feedback　フィードバック\n",
    "    feedback = instantSample_to_fb * feedbackGain\n",
    "\n",
    "    # Output　出力\n",
    "    output[i] = instantSample_to_fr_out\n",
    "\n",
    "end = time.time()"
   ]
  },
  {
   "cell_type": "code",
   "execution_count": 5,
   "metadata": {},
   "outputs": [
    {
     "name": "stdout",
     "output_type": "stream",
     "text": [
      "-1687151166.239213\n"
     ]
    }
   ],
   "source": [
    "# write output to file for listening\n",
    "sf.write('output_Karjalainen91.wav', output, fs)\n",
    "\n",
    "elapsed_time = end - start\n",
    "print(elapsed_time)"
   ]
  },
  {
   "cell_type": "code",
   "execution_count": null,
   "metadata": {},
   "outputs": [],
   "source": []
  }
 ],
 "metadata": {
  "kernelspec": {
   "display_name": "base",
   "language": "python",
   "name": "python3"
  },
  "language_info": {
   "codemirror_mode": {
    "name": "ipython",
    "version": 3
   },
   "file_extension": ".py",
   "mimetype": "text/x-python",
   "name": "python",
   "nbconvert_exporter": "python",
   "pygments_lexer": "ipython3",
   "version": "3.9.13"
  },
  "orig_nbformat": 4
 },
 "nbformat": 4,
 "nbformat_minor": 2
}
