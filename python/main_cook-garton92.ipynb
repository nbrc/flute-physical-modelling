{
 "cells": [
  {
   "cell_type": "code",
   "execution_count": null,
   "metadata": {},
   "outputs": [],
   "source": [
    "# From Brad Garton's gen patch\n",
    "# Max/help/examples/gen/gen~.flute\n"
   ]
  },
  {
   "cell_type": "code",
   "execution_count": 13,
   "metadata": {},
   "outputs": [],
   "source": [
    "import numpy as np\n",
    "import time\n",
    "import tqdm\n",
    "import librosa\n",
    "import resampy\n",
    "import soundfile as sf\n",
    "import matplotlib.pyplot as plt"
   ]
  },
  {
   "cell_type": "code",
   "execution_count": 14,
   "metadata": {},
   "outputs": [],
   "source": [
    "tube_length= 36\n",
    "embochure = 20\n",
    "fs = 44100\n",
    "nbr_de_sec = 3\n",
    "duration = fs*nbr_de_sec"
   ]
  },
  {
   "cell_type": "code",
   "execution_count": 15,
   "metadata": {},
   "outputs": [],
   "source": [
    "def noise(duration):\n",
    "    y = (np.random.rand(duration,1)-0.5)*2\n",
    "    return y"
   ]
  },
  {
   "cell_type": "code",
   "execution_count": 16,
   "metadata": {},
   "outputs": [],
   "source": [
    "# Cook-Garton 1992\n",
    "\n",
    "# Noise ノイズ\n",
    "burst_noise = noise(duration)\n",
    "\n",
    "# Variables 変数\n",
    "output = np.empty(duration)  # Preallocate output array for efficiency\n",
    "delayTube1 = np.empty(duration)\n",
    "delayTube2 = np.empty(duration)\n",
    "delayEmb = np.empty(duration)\n",
    "\n",
    "feedback1 = 0\n",
    "feedback2 = 0\n",
    "\n",
    "delayIR = 0\n",
    "start = 0\n",
    "end = 0\n",
    "noiseamp = 0.3\n",
    "\n",
    "start = time.time()\n",
    "for i in range(duration):\n",
    "    instantSample = burst_noise[i] * noiseamp\n",
    "    instantSample += 1.\n",
    "\n",
    "    # + Feedback\n",
    "    if i !=0:\n",
    "        instantSample += feedback1\n",
    "    \n",
    "    # Delay 100\n",
    "    delayEmb[i] = instantSample\n",
    "    if i > embochure:\n",
    "        instantSample = delayEmb[i-embochure]\n",
    "\n",
    "    # Nonlinearity\n",
    "    instantSample = (instantSample**3) - instantSample\n",
    "    instantSample *= 0.4\n",
    "\n",
    "    # + Feedback\n",
    "    if i !=0:\n",
    "        instantSample += feedback2\n",
    "    instantSample_to_output = instantSample\n",
    "\n",
    "    # IR Filter 無限インパルス応答フィルター\n",
    "    instantSample = instantSample * 0.7 + delayIR * 0.3\n",
    "    delayIR = instantSample\n",
    "\n",
    "    # Delay 100\n",
    "    delayTube1[i] = instantSample\n",
    "    if i > tube_length:\n",
    "        instantSample = delayTube1[i-tube_length]\n",
    "\n",
    "    # Feedbacks フィードバック\n",
    "    feedback1 = instantSample * -0.35\n",
    "    feedback2 = instantSample * 0.9\n",
    "\n",
    "    # Output\n",
    "    output[i] = instantSample_to_output * 0.5\n",
    "\n",
    "end = time.time()"
   ]
  },
  {
   "cell_type": "code",
   "execution_count": 17,
   "metadata": {},
   "outputs": [
    {
     "name": "stdout",
     "output_type": "stream",
     "text": [
      "1.4145522117614746\n"
     ]
    }
   ],
   "source": [
    "# write output to file for listening\n",
    "sf.write('output_Cook-Garton92.wav', output, fs)\n",
    "\n",
    "elapsed_time = end - start\n",
    "print(elapsed_time)"
   ]
  },
  {
   "cell_type": "code",
   "execution_count": null,
   "metadata": {},
   "outputs": [],
   "source": []
  }
 ],
 "metadata": {
  "kernelspec": {
   "display_name": "base",
   "language": "python",
   "name": "python3"
  },
  "language_info": {
   "codemirror_mode": {
    "name": "ipython",
    "version": 3
   },
   "file_extension": ".py",
   "mimetype": "text/x-python",
   "name": "python",
   "nbconvert_exporter": "python",
   "pygments_lexer": "ipython3",
   "version": "3.11.4"
  },
  "orig_nbformat": 4
 },
 "nbformat": 4,
 "nbformat_minor": 2
}
