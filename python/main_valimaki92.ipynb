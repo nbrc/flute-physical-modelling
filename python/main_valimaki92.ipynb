{
 "cells": [
  {
   "cell_type": "code",
   "execution_count": 13,
   "metadata": {},
   "outputs": [],
   "source": [
    "import numpy as np\n",
    "import time\n",
    "import soundfile as sf"
   ]
  },
  {
   "cell_type": "code",
   "execution_count": 14,
   "metadata": {},
   "outputs": [],
   "source": [
    "tube_length = 36\n",
    "fs = 44100\n",
    "embochure = 20\n",
    "inputGain = 0.372\n",
    "duration = fs*3"
   ]
  },
  {
   "cell_type": "code",
   "execution_count": 15,
   "metadata": {},
   "outputs": [],
   "source": [
    "def noise(duration):\n",
    "    y = (np.random.rand(duration,1)-0.5)*2\n",
    "    return y\n",
    "\n",
    "def normalize(array):\n",
    "    min = np.min(array)\n",
    "    max = np.max(array)\n",
    "    normalized_array = 2*(array-min)/(max-min) - 1\n",
    "    return normalized_array\n"
   ]
  },
  {
   "cell_type": "code",
   "execution_count": 16,
   "metadata": {},
   "outputs": [
    {
     "name": "stdout",
     "output_type": "stream",
     "text": [
      "[-0.79449074 -0.78516793 -0.77310287 ...  0.95005501  0.95933628\n",
      "  0.93870812]\n"
     ]
    }
   ],
   "source": [
    "# Valimaki 1992\n",
    "\n",
    "# Noise ノイズ\n",
    "burst_noise = noise(duration)\n",
    "\n",
    "# Variables 変数\n",
    "output = np.empty(duration)  # Preallocate output array for efficiency\n",
    "delayTube1 = np.empty(duration)\n",
    "delayTube2 = np.empty(duration)\n",
    "delayEmb = np.empty(duration)\n",
    "delayFb = np.empty(duration)\n",
    "delayFf = np.empty(duration)\n",
    "\n",
    "output1 = 0\n",
    "output2 = 0\n",
    "feedback1 = 0\n",
    "feedback2 = 0\n",
    "\n",
    "delayfr = 0\n",
    "\n",
    "start = 0\n",
    "end = 0\n",
    "\n",
    "start = time.time()\n",
    "for i in range(duration):\n",
    "    instantSample = burst_noise[i]\n",
    "\n",
    "    # + Feedback\n",
    "    instantSample += feedback1\n",
    "\n",
    "    # Input Gain\n",
    "    instantSample *= inputGain\n",
    "\n",
    "    # Delay-line Emb\n",
    "    delayEmb[i] = instantSample\n",
    "    if i > embochure:\n",
    "        instantSample = delayEmb[i - embochure]\n",
    "\n",
    "    # Nonlinearity\n",
    "    instantSample = instantSample - (instantSample ** 3)\n",
    "\n",
    "    # + Feedback\n",
    "    instantSample += feedback2\n",
    "\n",
    "    # Output1\n",
    "    output1 = instantSample\n",
    "\n",
    "    # Delay-line 1\n",
    "    delayTube1[i] = instantSample\n",
    "    if i > tube_length:\n",
    "        instantSample = delayTube1[i - tube_length]\n",
    "\n",
    "    # Fr\n",
    "    instantSample_to_fr = instantSample\n",
    "    instantSample_to_fr = instantSample * 0.11 + delayfr * (-0.89)\n",
    "    delayfr = instantSample_to_fr\n",
    "    output2 = instantSample_to_fr\n",
    "\n",
    "    # Ff\n",
    "    instantSample_to_ff = instantSample\n",
    "    delayFf[i] = instantSample_to_ff\n",
    "    if i > 3:\n",
    "        instantSample_to_ff = instantSample_to_ff * 0.25 + delayFf[i-1] * 0.25 + delayFf[i-2] * 0.25 + delayFf[i-3] * 0.25\n",
    "    instantSample = instantSample_to_ff\n",
    "\n",
    "    # Delay-line 2\n",
    "    delayTube2[i] = instantSample\n",
    "    if i > tube_length:\n",
    "        instantSample = delayTube2[i - tube_length]\n",
    "    instantSample_start = instantSample\n",
    "    \n",
    "    # Fb\n",
    "    instantSample_to_fb = instantSample\n",
    "    delayFb[i] = instantSample_to_fb\n",
    "    if i > 3:\n",
    "        instantSample_to_fb = instantSample_to_fb * 0.25 + delayFb[i-1] * 0.25 + delayFb[i-2] * 0.25 + delayFb[i-3] * 0.25\n",
    "    \n",
    "    # feedback1\n",
    "    feedback1 = instantSample_start * 0.1\n",
    "\n",
    "    # feedback2\n",
    "    feedback2 = instantSample_to_fb\n",
    "\n",
    "    # Output\n",
    "    output[i] = (output1 + output2) * 0.03162277660168379 # -30dB\n",
    "\n",
    "normalized_output = normalize(output)\n",
    "print(normalized_output)\n",
    "end = time.time()"
   ]
  },
  {
   "cell_type": "code",
   "execution_count": 17,
   "metadata": {},
   "outputs": [
    {
     "name": "stdout",
     "output_type": "stream",
     "text": [
      "1.3975818157196045\n"
     ]
    }
   ],
   "source": [
    "# write output to file for listening\n",
    "sf.write('output_Valimaki92.wav', normalized_output, fs)\n",
    "\n",
    "elapsed_time = end - start\n",
    "print(elapsed_time)"
   ]
  },
  {
   "cell_type": "code",
   "execution_count": null,
   "metadata": {},
   "outputs": [],
   "source": []
  }
 ],
 "metadata": {
  "kernelspec": {
   "display_name": "base",
   "language": "python",
   "name": "python3"
  },
  "language_info": {
   "codemirror_mode": {
    "name": "ipython",
    "version": 3
   },
   "file_extension": ".py",
   "mimetype": "text/x-python",
   "name": "python",
   "nbconvert_exporter": "python",
   "pygments_lexer": "ipython3",
   "version": "3.9.13"
  },
  "orig_nbformat": 4
 },
 "nbformat": 4,
 "nbformat_minor": 2
}
